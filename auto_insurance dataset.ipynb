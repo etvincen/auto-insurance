{
 "cells": [
  {
   "cell_type": "code",
   "execution_count": 813,
   "metadata": {},
   "outputs": [],
   "source": [
    "import pandas as pd\n",
    "import numpy as np\n",
    "import os, math\n",
    "import string\n",
    "import matplotlib.pyplot as plt"
   ]
  },
  {
   "cell_type": "code",
   "execution_count": 814,
   "metadata": {},
   "outputs": [
    {
     "data": {
      "text/html": [
       "<div>\n",
       "<style scoped>\n",
       "    .dataframe tbody tr th:only-of-type {\n",
       "        vertical-align: middle;\n",
       "    }\n",
       "\n",
       "    .dataframe tbody tr th {\n",
       "        vertical-align: top;\n",
       "    }\n",
       "\n",
       "    .dataframe thead th {\n",
       "        text-align: right;\n",
       "    }\n",
       "</style>\n",
       "<table border=\"1\" class=\"dataframe\">\n",
       "  <thead>\n",
       "    <tr style=\"text-align: right;\">\n",
       "      <th></th>\n",
       "      <th>TARGET_FLAG</th>\n",
       "      <th>TARGET_AMT</th>\n",
       "      <th>KIDSDRIV</th>\n",
       "      <th>AGE</th>\n",
       "      <th>HOMEKIDS</th>\n",
       "      <th>YOJ</th>\n",
       "      <th>INCOME</th>\n",
       "      <th>PARENT1</th>\n",
       "      <th>HOME_VAL</th>\n",
       "      <th>MSTATUS</th>\n",
       "      <th>...</th>\n",
       "      <th>BLUEBOOK</th>\n",
       "      <th>TIF</th>\n",
       "      <th>CAR_TYPE</th>\n",
       "      <th>RED_CAR</th>\n",
       "      <th>OLDCLAIM</th>\n",
       "      <th>CLM_FREQ</th>\n",
       "      <th>REVOKED</th>\n",
       "      <th>MVR_PTS</th>\n",
       "      <th>CAR_AGE</th>\n",
       "      <th>URBANICITY</th>\n",
       "    </tr>\n",
       "    <tr>\n",
       "      <th>INDEX</th>\n",
       "      <th></th>\n",
       "      <th></th>\n",
       "      <th></th>\n",
       "      <th></th>\n",
       "      <th></th>\n",
       "      <th></th>\n",
       "      <th></th>\n",
       "      <th></th>\n",
       "      <th></th>\n",
       "      <th></th>\n",
       "      <th></th>\n",
       "      <th></th>\n",
       "      <th></th>\n",
       "      <th></th>\n",
       "      <th></th>\n",
       "      <th></th>\n",
       "      <th></th>\n",
       "      <th></th>\n",
       "      <th></th>\n",
       "      <th></th>\n",
       "      <th></th>\n",
       "    </tr>\n",
       "  </thead>\n",
       "  <tbody>\n",
       "    <tr>\n",
       "      <th>1</th>\n",
       "      <td>0</td>\n",
       "      <td>0.0</td>\n",
       "      <td>0</td>\n",
       "      <td>60.0</td>\n",
       "      <td>0</td>\n",
       "      <td>11.0</td>\n",
       "      <td>$67,349</td>\n",
       "      <td>No</td>\n",
       "      <td>$0</td>\n",
       "      <td>z_No</td>\n",
       "      <td>...</td>\n",
       "      <td>$14,230</td>\n",
       "      <td>11</td>\n",
       "      <td>Minivan</td>\n",
       "      <td>yes</td>\n",
       "      <td>$4,461</td>\n",
       "      <td>2</td>\n",
       "      <td>No</td>\n",
       "      <td>3</td>\n",
       "      <td>18.0</td>\n",
       "      <td>Highly Urban/ Urban</td>\n",
       "    </tr>\n",
       "    <tr>\n",
       "      <th>2</th>\n",
       "      <td>0</td>\n",
       "      <td>0.0</td>\n",
       "      <td>0</td>\n",
       "      <td>43.0</td>\n",
       "      <td>0</td>\n",
       "      <td>11.0</td>\n",
       "      <td>$91,449</td>\n",
       "      <td>No</td>\n",
       "      <td>$257,252</td>\n",
       "      <td>z_No</td>\n",
       "      <td>...</td>\n",
       "      <td>$14,940</td>\n",
       "      <td>1</td>\n",
       "      <td>Minivan</td>\n",
       "      <td>yes</td>\n",
       "      <td>$0</td>\n",
       "      <td>0</td>\n",
       "      <td>No</td>\n",
       "      <td>0</td>\n",
       "      <td>1.0</td>\n",
       "      <td>Highly Urban/ Urban</td>\n",
       "    </tr>\n",
       "    <tr>\n",
       "      <th>4</th>\n",
       "      <td>0</td>\n",
       "      <td>0.0</td>\n",
       "      <td>0</td>\n",
       "      <td>35.0</td>\n",
       "      <td>1</td>\n",
       "      <td>10.0</td>\n",
       "      <td>$16,039</td>\n",
       "      <td>No</td>\n",
       "      <td>$124,191</td>\n",
       "      <td>Yes</td>\n",
       "      <td>...</td>\n",
       "      <td>$4,010</td>\n",
       "      <td>4</td>\n",
       "      <td>z_SUV</td>\n",
       "      <td>no</td>\n",
       "      <td>$38,690</td>\n",
       "      <td>2</td>\n",
       "      <td>No</td>\n",
       "      <td>3</td>\n",
       "      <td>10.0</td>\n",
       "      <td>Highly Urban/ Urban</td>\n",
       "    </tr>\n",
       "    <tr>\n",
       "      <th>5</th>\n",
       "      <td>0</td>\n",
       "      <td>0.0</td>\n",
       "      <td>0</td>\n",
       "      <td>51.0</td>\n",
       "      <td>0</td>\n",
       "      <td>14.0</td>\n",
       "      <td>NaN</td>\n",
       "      <td>No</td>\n",
       "      <td>$306,251</td>\n",
       "      <td>Yes</td>\n",
       "      <td>...</td>\n",
       "      <td>$15,440</td>\n",
       "      <td>7</td>\n",
       "      <td>Minivan</td>\n",
       "      <td>yes</td>\n",
       "      <td>$0</td>\n",
       "      <td>0</td>\n",
       "      <td>No</td>\n",
       "      <td>0</td>\n",
       "      <td>6.0</td>\n",
       "      <td>Highly Urban/ Urban</td>\n",
       "    </tr>\n",
       "    <tr>\n",
       "      <th>6</th>\n",
       "      <td>0</td>\n",
       "      <td>0.0</td>\n",
       "      <td>0</td>\n",
       "      <td>50.0</td>\n",
       "      <td>0</td>\n",
       "      <td>NaN</td>\n",
       "      <td>$114,986</td>\n",
       "      <td>No</td>\n",
       "      <td>$243,925</td>\n",
       "      <td>Yes</td>\n",
       "      <td>...</td>\n",
       "      <td>$18,000</td>\n",
       "      <td>1</td>\n",
       "      <td>z_SUV</td>\n",
       "      <td>no</td>\n",
       "      <td>$19,217</td>\n",
       "      <td>2</td>\n",
       "      <td>Yes</td>\n",
       "      <td>3</td>\n",
       "      <td>17.0</td>\n",
       "      <td>Highly Urban/ Urban</td>\n",
       "    </tr>\n",
       "  </tbody>\n",
       "</table>\n",
       "<p>5 rows × 25 columns</p>\n",
       "</div>"
      ],
      "text/plain": [
       "       TARGET_FLAG  TARGET_AMT  KIDSDRIV   AGE  HOMEKIDS   YOJ    INCOME  \\\n",
       "INDEX                                                                      \n",
       "1                0         0.0         0  60.0         0  11.0   $67,349   \n",
       "2                0         0.0         0  43.0         0  11.0   $91,449   \n",
       "4                0         0.0         0  35.0         1  10.0   $16,039   \n",
       "5                0         0.0         0  51.0         0  14.0       NaN   \n",
       "6                0         0.0         0  50.0         0   NaN  $114,986   \n",
       "\n",
       "      PARENT1  HOME_VAL MSTATUS         ...          BLUEBOOK TIF CAR_TYPE  \\\n",
       "INDEX                                   ...                                  \n",
       "1          No        $0    z_No         ...           $14,230  11  Minivan   \n",
       "2          No  $257,252    z_No         ...           $14,940   1  Minivan   \n",
       "4          No  $124,191     Yes         ...            $4,010   4    z_SUV   \n",
       "5          No  $306,251     Yes         ...           $15,440   7  Minivan   \n",
       "6          No  $243,925     Yes         ...           $18,000   1    z_SUV   \n",
       "\n",
       "       RED_CAR OLDCLAIM CLM_FREQ  REVOKED MVR_PTS CAR_AGE           URBANICITY  \n",
       "INDEX                                                                           \n",
       "1          yes   $4,461        2       No       3    18.0  Highly Urban/ Urban  \n",
       "2          yes       $0        0       No       0     1.0  Highly Urban/ Urban  \n",
       "4           no  $38,690        2       No       3    10.0  Highly Urban/ Urban  \n",
       "5          yes       $0        0       No       0     6.0  Highly Urban/ Urban  \n",
       "6           no  $19,217        2      Yes       3    17.0  Highly Urban/ Urban  \n",
       "\n",
       "[5 rows x 25 columns]"
      ]
     },
     "execution_count": 814,
     "metadata": {},
     "output_type": "execute_result"
    }
   ],
   "source": [
    "path = 'data'\n",
    "df = pd.read_csv(os.path.join(path, 'train_auto.csv'), delimiter=',')\n",
    "df.set_index('INDEX', inplace=True)\n",
    "df.head()"
   ]
  },
  {
   "cell_type": "markdown",
   "metadata": {},
   "source": [
    "# Data Exploration"
   ]
  },
  {
   "cell_type": "markdown",
   "metadata": {},
   "source": [
    "### First Cleaning"
   ]
  },
  {
   "cell_type": "code",
   "execution_count": 815,
   "metadata": {},
   "outputs": [],
   "source": [
    "def cleaning(df):\n",
    "    discrete_vars = []\n",
    "    continuous_vars = []\n",
    "\n",
    "    df['EDUCATION'] = df['EDUCATION'].apply(lambda x: x.replace('<','INF_'))\n",
    "    df['URBANICITY'] = df['URBANICITY'].apply(lambda x: x.replace('/',''))\n",
    "\n",
    "    dollar_columns = ['INCOME', 'HOME_VAL', 'BLUEBOOK', 'OLDCLAIM']\n",
    "    for elem in dollar_columns:\n",
    "        df[elem] = df[elem].astype('str')\n",
    "        df[elem] = df[elem].apply(lambda x: x.replace('$', '').replace(',',''))\n",
    "        df[elem] = df[elem].astype('float')\n",
    "\n",
    "    for c in df.columns:\n",
    "        if df[c].dtype == 'O':\n",
    "            discrete_vars.append(c)\n",
    "            df[c] = df[c].astype('category')\n",
    "        else:\n",
    "            continuous_vars.append(c)\n",
    "\n",
    "    for elem in discrete_vars:\n",
    "        df[elem] = df[elem].apply(lambda x: x.replace(' ', '_'))\n",
    "\n",
    "    continuous_vars.remove('TARGET_FLAG')\n",
    "    return df\n",
    "\n",
    "df = cleaning(df)"
   ]
  },
  {
   "cell_type": "code",
   "execution_count": 816,
   "metadata": {},
   "outputs": [
    {
     "data": {
      "text/plain": [
       "<matplotlib.axes._subplots.AxesSubplot at 0x1be120f06a0>"
      ]
     },
     "execution_count": 816,
     "metadata": {},
     "output_type": "execute_result"
    },
    {
     "data": {
      "image/png": "[encoded data removed]",
      "text/plain": [
       "<matplotlib.figure.Figure at 0x1be0e1a38d0>"
      ]
     },
     "metadata": {},
     "output_type": "display_data"
    }
   ],
   "source": [
    "df_na = df.isna().sum().to_frame()\n",
    "df_na.columns = ['count_nan']\n",
    "df_na[['count_nan']].sort_values(\"count_nan\").plot.barh(title='Number of missing values per feature', legend=False)"
   ]
  },
  {
   "cell_type": "code",
   "execution_count": 817,
   "metadata": {},
   "outputs": [
    {
     "name": "stdout",
     "output_type": "stream",
     "text": [
      "There is at best 6.45% missing data given a feature on our dataset\n"
     ]
    }
   ],
   "source": [
    "df_na['perc_nan'] = df_na['count_nan'].apply(lambda x: round((x/df.shape[0])*100,2))\n",
    "print(\"There is at best {}% missing data given a feature on our dataset\".format(max(df_na['perc_nan'])))"
   ]
  },
  {
   "cell_type": "markdown",
   "metadata": {},
   "source": [
    "As, the missing data ratio is relatively small, we can think later of doing imputation "
   ]
  },
  {
   "cell_type": "code",
   "execution_count": 818,
   "metadata": {},
   "outputs": [
    {
     "name": "stdout",
     "output_type": "stream",
     "text": [
      "count    8161.000000\n",
      "mean        0.263816\n",
      "std         0.440728\n",
      "min         0.000000\n",
      "25%         0.000000\n",
      "50%         0.000000\n",
      "75%         1.000000\n",
      "max         1.000000\n",
      "Name: TARGET_FLAG, dtype: float64\n",
      "\n",
      "\n",
      "count      8161.000000\n",
      "mean       1504.324648\n",
      "std        4704.026930\n",
      "min           0.000000\n",
      "25%           0.000000\n",
      "50%           0.000000\n",
      "75%        1036.000000\n",
      "max      107586.136160\n",
      "Name: TARGET_AMT, dtype: float64\n",
      "\n",
      "\n",
      "count    8161.000000\n",
      "mean        0.171057\n",
      "std         0.511534\n",
      "min         0.000000\n",
      "25%         0.000000\n",
      "50%         0.000000\n",
      "75%         0.000000\n",
      "max         4.000000\n",
      "Name: KIDSDRIV, dtype: float64\n",
      "\n",
      "\n",
      "count    8155.000000\n",
      "mean       44.790313\n",
      "std         8.627589\n",
      "min        16.000000\n",
      "25%        39.000000\n",
      "50%        45.000000\n",
      "75%        51.000000\n",
      "max        81.000000\n",
      "Name: AGE, dtype: float64\n",
      "\n",
      "\n",
      "count    8161.000000\n",
      "mean        0.721235\n",
      "std         1.116323\n",
      "min         0.000000\n",
      "25%         0.000000\n",
      "50%         0.000000\n",
      "75%         1.000000\n",
      "max         5.000000\n",
      "Name: HOMEKIDS, dtype: float64\n",
      "\n",
      "\n",
      "count    7707.000000\n",
      "mean       10.499286\n",
      "std         4.092474\n",
      "min         0.000000\n",
      "25%         9.000000\n",
      "50%        11.000000\n",
      "75%        13.000000\n",
      "max        23.000000\n",
      "Name: YOJ, dtype: float64\n",
      "\n",
      "\n",
      "count      7716.000000\n",
      "mean      61898.094609\n",
      "std       47572.682808\n",
      "min           0.000000\n",
      "25%       28097.000000\n",
      "50%       54028.000000\n",
      "75%       85986.000000\n",
      "max      367030.000000\n",
      "Name: INCOME, dtype: float64\n",
      "\n",
      "\n",
      "count     8161\n",
      "unique       2\n",
      "top         No\n",
      "freq      7084\n",
      "Name: PARENT1, dtype: object\n",
      "\n",
      "\n",
      "count      7697.000000\n",
      "mean     154867.289723\n",
      "std      129123.774574\n",
      "min           0.000000\n",
      "25%           0.000000\n",
      "50%      161160.000000\n",
      "75%      238724.000000\n",
      "max      885282.000000\n",
      "Name: HOME_VAL, dtype: float64\n",
      "\n",
      "\n",
      "count     8161\n",
      "unique       2\n",
      "top        Yes\n",
      "freq      4894\n",
      "Name: MSTATUS, dtype: object\n",
      "\n",
      "\n",
      "count     8161\n",
      "unique       2\n",
      "top        z_F\n",
      "freq      4375\n",
      "Name: SEX, dtype: object\n",
      "\n",
      "\n",
      "count              8161\n",
      "unique                5\n",
      "top       z_High_School\n",
      "freq               2330\n",
      "Name: EDUCATION, dtype: object\n",
      "\n",
      "\n",
      "count              7635\n",
      "unique                8\n",
      "top       z_Blue_Collar\n",
      "freq               1825\n",
      "Name: JOB, dtype: object\n",
      "\n",
      "\n",
      "count    8161.000000\n",
      "mean       33.485725\n",
      "std        15.908333\n",
      "min         5.000000\n",
      "25%        22.000000\n",
      "50%        33.000000\n",
      "75%        44.000000\n",
      "max       142.000000\n",
      "Name: TRAVTIME, dtype: float64\n",
      "\n",
      "\n",
      "count        8161\n",
      "unique          2\n",
      "top       Private\n",
      "freq         5132\n",
      "Name: CAR_USE, dtype: object\n",
      "\n",
      "\n",
      "count     8161.000000\n",
      "mean     15709.899522\n",
      "std       8419.734075\n",
      "min       1500.000000\n",
      "25%       9280.000000\n",
      "50%      14440.000000\n",
      "75%      20850.000000\n",
      "max      69740.000000\n",
      "Name: BLUEBOOK, dtype: float64\n",
      "\n",
      "\n",
      "count    8161.000000\n",
      "mean        5.351305\n",
      "std         4.146635\n",
      "min         1.000000\n",
      "25%         1.000000\n",
      "50%         4.000000\n",
      "75%         7.000000\n",
      "max        25.000000\n",
      "Name: TIF, dtype: float64\n",
      "\n",
      "\n",
      "count      8161\n",
      "unique        6\n",
      "top       z_SUV\n",
      "freq       2294\n",
      "Name: CAR_TYPE, dtype: object\n",
      "\n",
      "\n",
      "count     8161\n",
      "unique       2\n",
      "top         no\n",
      "freq      5783\n",
      "Name: RED_CAR, dtype: object\n",
      "\n",
      "\n",
      "count     8161.000000\n",
      "mean      4037.076216\n",
      "std       8777.139104\n",
      "min          0.000000\n",
      "25%          0.000000\n",
      "50%          0.000000\n",
      "75%       4636.000000\n",
      "max      57037.000000\n",
      "Name: OLDCLAIM, dtype: float64\n",
      "\n",
      "\n",
      "count    8161.000000\n",
      "mean        0.798554\n",
      "std         1.158453\n",
      "min         0.000000\n",
      "25%         0.000000\n",
      "50%         0.000000\n",
      "75%         2.000000\n",
      "max         5.000000\n",
      "Name: CLM_FREQ, dtype: float64\n",
      "\n",
      "\n",
      "count     8161\n",
      "unique       2\n",
      "top         No\n",
      "freq      7161\n",
      "Name: REVOKED, dtype: object\n",
      "\n",
      "\n",
      "count    8161.000000\n",
      "mean        1.695503\n",
      "std         2.147112\n",
      "min         0.000000\n",
      "25%         0.000000\n",
      "50%         1.000000\n",
      "75%         3.000000\n",
      "max        13.000000\n",
      "Name: MVR_PTS, dtype: float64\n",
      "\n",
      "\n",
      "count    7651.000000\n",
      "mean        8.328323\n",
      "std         5.700742\n",
      "min        -3.000000\n",
      "25%         1.000000\n",
      "50%         8.000000\n",
      "75%        12.000000\n",
      "max        28.000000\n",
      "Name: CAR_AGE, dtype: float64\n",
      "\n",
      "\n",
      "count                   8161\n",
      "unique                     2\n",
      "top       Highly_Urban_Urban\n",
      "freq                    6492\n",
      "Name: URBANICITY, dtype: object\n",
      "\n",
      "\n"
     ]
    }
   ],
   "source": [
    "# Global Statistics for each feature\n",
    "for c in df.columns:\n",
    "    print(df[c].describe(include='all'))\n",
    "    print('\\n')"
   ]
  },
  {
   "cell_type": "markdown",
   "metadata": {},
   "source": [
    "### Frequency analysis"
   ]
  },
  {
   "cell_type": "code",
   "execution_count": 819,
   "metadata": {},
   "outputs": [],
   "source": [
    "def ax_range(n, x, y):\n",
    "    cpt = 0\n",
    "    for i in range(y):\n",
    "        for j in range(x):\n",
    "            if cpt != n:\n",
    "                cpt+=1\n",
    "            else:\n",
    "                return (i,j)"
   ]
  },
  {
   "cell_type": "markdown",
   "metadata": {},
   "source": [
    "Discrete variables"
   ]
  },
  {
   "cell_type": "code",
   "execution_count": 820,
   "metadata": {},
   "outputs": [
    {
     "data": {
      "image/png": "[encoded data removed]",
      "text/plain": [
       "<matplotlib.figure.Figure at 0x1be172874e0>"
      ]
     },
     "metadata": {},
     "output_type": "display_data"
    }
   ],
   "source": [
    "num_x = 2\n",
    "num_y = 5\n",
    "\n",
    "fig, axes = plt.subplots(num_y, num_x, figsize=(10,8))\n",
    "for i, c in enumerate(df[discrete_vars].columns):\n",
    "    y,x = ax_range(i, num_x, num_y)\n",
    "    vals = df[c].value_counts().values\n",
    "    inds = df[c].value_counts().index\n",
    "    axes[y,x].barh(inds, vals)\n",
    "    axes[y,x].set_ylabel(c)\n",
    "plt.subplots_adjust(bottom=0.1, right=1.8, top=0.9)\n",
    "plt.show()"
   ]
  },
  {
   "cell_type": "markdown",
   "metadata": {},
   "source": [
    "Continuous Variables"
   ]
  },
  {
   "cell_type": "code",
   "execution_count": 821,
   "metadata": {},
   "outputs": [
    {
     "data": {
      "text/plain": [
       "'\\n#utiliser pd.cut !!\\nnum_x = 2\\nnum_y = 7\\nfig, axes = plt.subplots(num_y, num_x, figsize=(10,8))\\nfor i, c in enumerate(df[continuous_vars].columns):\\n    y,x = ax_range(i, num_x, num_y)\\n    vals = df[c].value_counts().values\\n    inds = df[c].value_counts().index\\n    axes[y,x].barh(inds, vals)\\n    axes[y,x].set_ylabel(c)\\n    \\nplt.subplots_adjust(bottom=0.1, right=1.8, top=0.9)\\nplt.show()\\n'"
      ]
     },
     "execution_count": 821,
     "metadata": {},
     "output_type": "execute_result"
    }
   ],
   "source": [
    "\"\"\"\n",
    "#utiliser pd.cut !!\n",
    "num_x = 2\n",
    "num_y = 7\n",
    "fig, axes = plt.subplots(num_y, num_x, figsize=(10,8))\n",
    "for i, c in enumerate(df[continuous_vars].columns):\n",
    "    y,x = ax_range(i, num_x, num_y)\n",
    "    vals = df[c].value_counts().values\n",
    "    inds = df[c].value_counts().index\n",
    "    axes[y,x].barh(inds, vals)\n",
    "    axes[y,x].set_ylabel(c)\n",
    "    \n",
    "plt.subplots_adjust(bottom=0.1, right=1.8, top=0.9)\n",
    "plt.show()\n",
    "\"\"\""
   ]
  },
  {
   "cell_type": "markdown",
   "metadata": {},
   "source": [
    "### Simple Pearson Correlations Analysis\n",
    "Between continuous variables only"
   ]
  },
  {
   "cell_type": "code",
   "execution_count": 822,
   "metadata": {},
   "outputs": [
    {
     "data": {
      "image/png": "[encoded data removed]",
      "text/plain": [
       "<matplotlib.figure.Figure at 0x1be08e9bd68>"
      ]
     },
     "metadata": {},
     "output_type": "display_data"
    }
   ],
   "source": [
    "import scipy.stats as ss\n",
    "from scipy.stats import pearsonr\n",
    "import seaborn as sns\n",
    "\n",
    "correlation_mat = df[continuous_vars].corr()\n",
    "f, ax = plt.subplots(figsize=(12, 8))\n",
    "ax = sns.heatmap(correlation_mat, annot = True)\n",
    "#sns.heatmap(correlation_mat, annot = True)\n",
    "plt.show()"
   ]
  },
  {
   "cell_type": "markdown",
   "metadata": {},
   "source": [
    "### Data Imputation\n",
    "Instead of deleting each row containing missing data, we impute missing values with either the most frequent label (categorical) or the mean value (numerical)"
   ]
  },
  {
   "cell_type": "code",
   "execution_count": 823,
   "metadata": {},
   "outputs": [],
   "source": [
    "def intersect(lst1, lst2):\n",
    "    lst3 = []\n",
    "    for e1 in lst1:\n",
    "        if e1 in lst2:\n",
    "            lst3.append(e1)\n",
    "    return lst3"
   ]
  },
  {
   "cell_type": "code",
   "execution_count": 824,
   "metadata": {},
   "outputs": [
    {
     "name": "stdout",
     "output_type": "stream",
     "text": [
      "['AGE', 'YOJ', 'INCOME', 'HOME_VAL', 'JOB', 'CAR_AGE']\n"
     ]
    }
   ],
   "source": [
    "from sklearn.impute import SimpleImputer\n",
    "\n",
    "def imputed(df):\n",
    "    has_na = df.isna().any()\n",
    "    mask = has_na == True\n",
    "    imp_cols = list(has_na[mask].index)\n",
    "    print(imp_cols)\n",
    "\n",
    "    imp_cols_disc = intersect(discrete_vars, imp_cols)\n",
    "    imp_cols_cont = intersect(continuous_vars, imp_cols)\n",
    "    \n",
    "    df2 = df.copy(deep=True)\n",
    "    imp = SimpleImputer(missing_values=np.nan, strategy=\"most_frequent\")\n",
    "    for col in imp_cols_disc:\n",
    "        data = imp.fit_transform(df2[[col]])\n",
    "        df2[col] = data\n",
    "        \n",
    "    imp = SimpleImputer(missing_values=np.nan, strategy=\"mean\")\n",
    "    if 'TARGET_AMT' in imp_cols_cont:\n",
    "        imp_cols_cont.remove('TARGET_AMT')\n",
    "    for col in imp_cols_cont:\n",
    "        data = imp.fit_transform(df2[[col]])\n",
    "        df2[col] = data\n",
    "        \n",
    "    return df2\n",
    "\n",
    "df2 = imputed(df)"
   ]
  },
  {
   "cell_type": "markdown",
   "metadata": {},
   "source": [
    "Impute categorical data with most_frequent label"
   ]
  },
  {
   "cell_type": "markdown",
   "metadata": {},
   "source": [
    "Impute numerical data with mean"
   ]
  },
  {
   "cell_type": "markdown",
   "metadata": {},
   "source": [
    "### One-Hot Encoding\n",
    "For Categorical Variables"
   ]
  },
  {
   "cell_type": "code",
   "execution_count": 825,
   "metadata": {},
   "outputs": [],
   "source": [
    "from sklearn.preprocessing import OneHotEncoder\n",
    "\n",
    "def onehotencoding(df2):\n",
    "    df3 = df2.copy(deep=True)\n",
    "\n",
    "    for col in discrete_vars:\n",
    "        # creating instance of one-hot-encoder\n",
    "        enc = OneHotEncoder(handle_unknown='error')\n",
    "\n",
    "        enc_df = pd.DataFrame(enc.fit_transform(df3[[col]]).toarray())\n",
    "        #Keep the index ordering\n",
    "        enc_df.set_index(df3.index, inplace=True)\n",
    "        str_names = [str(col + '_' + str(i)) for i,c in enumerate(list(np.unique(df3[col])))]\n",
    "        enc_df.columns = str_names\n",
    "        # merge \n",
    "        df3 = df3.join(enc_df)\n",
    "        df3.drop(col, axis=1, inplace=True)\n",
    "    return df3\n",
    "\n",
    "df3 = onehotencoding(df2)"
   ]
  },
  {
   "cell_type": "markdown",
   "metadata": {},
   "source": [
    "## Data split"
   ]
  },
  {
   "cell_type": "code",
   "execution_count": 826,
   "metadata": {},
   "outputs": [],
   "source": [
    "from sklearn.model_selection import StratifiedKFold\n",
    "from sklearn.linear_model import LogisticRegression\n",
    "from sklearn.metrics import confusion_matrix, roc_auc_score, accuracy_score, f1_score\n",
    "\n",
    "#Shuffle data\n",
    "df3 = df3.sample(frac=1)\n",
    "train = df3[:int(df3.shape[0]*0.80)]\n",
    "test = df3[int(df3.shape[0]*0.80):]\n",
    "\n",
    "y_train = train['TARGET_FLAG']\n",
    "X_train = train.drop(columns=['TARGET_FLAG', 'TARGET_AMT'], axis=1)\n",
    "\n",
    "y_test = test['TARGET_FLAG']\n",
    "X_test = test.drop(columns=['TARGET_FLAG', 'TARGET_AMT'], axis=1)\n",
    "\n",
    "y_test = np.array(y_test).reshape(-1,1)"
   ]
  },
  {
   "cell_type": "markdown",
   "metadata": {},
   "source": [
    "## Training Full Model"
   ]
  },
  {
   "cell_type": "markdown",
   "metadata": {},
   "source": [
    "Baseline : If we always predict TARGET_FLAG = 0 (not a car crash) we got 73% accuracy"
   ]
  },
  {
   "cell_type": "code",
   "execution_count": 827,
   "metadata": {},
   "outputs": [
    {
     "name": "stdout",
     "output_type": "stream",
     "text": [
      "Accuracy: 74.16%\n",
      "ROC AUC score: 0.5\n",
      "Confusion matrix\n",
      " [[1211    0]\n",
      " [ 422    0]]\n"
     ]
    }
   ],
   "source": [
    "#arr, count = np.unique(y_test, return_counts=True)\n",
    "#print((arr, count))\n",
    "y_dum = np.zeros(y_test.shape, dtype=int)\n",
    "\n",
    "auc = roc_auc_score(y_test, y_dum)\n",
    "\n",
    "print(\"Accuracy: {}%\".format(round(accuracy_score(y_test, y_dum)*100, 2)))\n",
    "\n",
    "print('ROC AUC score:', auc)\n",
    "\n",
    "print('Confusion matrix\\n', confusion_matrix(y_test, y_dum))"
   ]
  },
  {
   "cell_type": "markdown",
   "metadata": {},
   "source": [
    "Logistic Regression : A Linear Model for Binary Classification"
   ]
  },
  {
   "cell_type": "code",
   "execution_count": 828,
   "metadata": {},
   "outputs": [
    {
     "name": "stdout",
     "output_type": "stream",
     "text": [
      "0.6999387630128597\n",
      "ROC AUC score: 0.6857547911913306\n",
      "F1-score: 53.07%\n",
      "Confusion matrix\n",
      " [[866 345]\n",
      " [145 277]]\n"
     ]
    },
    {
     "name": "stderr",
     "output_type": "stream",
     "text": [
      "C:\\Anaconda3\\lib\\site-packages\\sklearn\\linear_model\\logistic.py:432: FutureWarning: Default solver will be changed to 'lbfgs' in 0.22. Specify a solver to silence this warning.\n",
      "  FutureWarning)\n"
     ]
    }
   ],
   "source": [
    "logreg = LogisticRegression(class_weight='balanced')\n",
    "logreg.fit(X_train, y_train)\n",
    "\n",
    "y_pred = logreg.predict(X_test)\n",
    "\n",
    "score2 = logreg.score(X_test, y_test)\n",
    "print(score2)\n",
    "\n",
    "auc = roc_auc_score(y_test, y_pred)\n",
    "print('ROC AUC score:', auc)\n",
    "\n",
    "print('F1-score: {}%'.format(round(f1_score(y_test, y_pred)*100, 2)))\n",
    "print('Confusion matrix\\n', confusion_matrix(y_test, y_pred))"
   ]
  },
  {
   "cell_type": "code",
   "execution_count": 829,
   "metadata": {},
   "outputs": [
    {
     "data": {
      "text/plain": [
       "<matplotlib.axes._subplots.AxesSubplot at 0x1be11c7b748>"
      ]
     },
     "execution_count": 829,
     "metadata": {},
     "output_type": "execute_result"
    },
    {
     "data": {
      "image/png": "[encoded data removed]",
      "text/plain": [
       "<matplotlib.figure.Figure at 0x1be14e734a8>"
      ]
     },
     "metadata": {},
     "output_type": "display_data"
    }
   ],
   "source": [
    "# get coeffs importance\n",
    "importance = logreg.coef_\n",
    "\n",
    "dico = {}\n",
    "for col, v in zip(X_train.columns, importance[0]):\n",
    "    dico[col] = v\n",
    "\n",
    "df_importance = pd.DataFrame.from_dict(dico, orient='index')\n",
    "df_importance.columns = ['Importance']\n",
    "df_importance.sort_values(by='Importance', ascending=False, inplace=True)\n",
    "#df_importance.head(15)\n",
    "\n",
    "df_importance.sort_values('Importance').plot.barh(title='Feature Importance', legend=False, figsize=(10,8))"
   ]
  },
  {
   "cell_type": "markdown",
   "metadata": {},
   "source": [
    "## Training Partial Model\n",
    "Remove the unimportant features and use a K-Fold data strategy to reduce overfitting"
   ]
  },
  {
   "cell_type": "code",
   "execution_count": 830,
   "metadata": {},
   "outputs": [],
   "source": [
    "df_importance2 = df_importance.reset_index()\n",
    "df_importance2.rename(columns={'index':'Features'}, inplace=True)\n",
    "mask = (df_importance2['Importance'] >= 0.0)\n",
    "important_cols = df_importance2[mask]['Features']"
   ]
  },
  {
   "cell_type": "code",
   "execution_count": 831,
   "metadata": {},
   "outputs": [
    {
     "name": "stdout",
     "output_type": "stream",
     "text": [
      "1 of KFold 5\n",
      "ROC AUC score: 0.7413754803073968\n",
      "F1-score: 0.6002239641657334\n",
      "\n",
      "\n",
      "2 of KFold 5\n",
      "ROC AUC score: 0.7063794556840078\n",
      "F1-score: 0.5618247298919568\n",
      "\n",
      "\n",
      "3 of KFold 5\n",
      "ROC AUC score: 0.7204262026315948\n",
      "F1-score: 0.5762711864406779\n",
      "\n",
      "\n",
      "4 of KFold 5\n",
      "ROC AUC score: 0.7207094938730735\n",
      "F1-score: 0.5762331838565021\n",
      "\n",
      "\n",
      "5 of KFold 5\n",
      "ROC AUC score: 0.7163290277082945\n",
      "F1-score: 0.5720823798627003\n",
      "\n",
      "\n",
      "pred_test_full: [0.98114384 1.3927865  0.62921261 ... 2.47224905 0.85656333 3.34416341]\n",
      "Averaged CV score: 72.1%\n",
      "Averaged F1-score: 57.73%\n",
      "Averaged accuracy: 71.68%\n"
     ]
    }
   ],
   "source": [
    "X_train = X_train[important_cols]\n",
    "X_test = X_test[important_cols]\n",
    "\n",
    "pred_test_full =0\n",
    "cv_score =[]\n",
    "f1_scores = []\n",
    "accuracy_scores = []\n",
    "models = []\n",
    "i=1\n",
    "skf = StratifiedKFold(n_splits=5)\n",
    "\n",
    "\n",
    "for train_index, test_index in skf.split(X_train, y_train):\n",
    "    print('{} of KFold {}'.format(i, skf.n_splits))\n",
    "    \n",
    "    xtr, xvl = X_train.iloc[train_index], X_train.iloc[test_index]\n",
    "    ytr, yvl = y_train.iloc[train_index], y_train.iloc[test_index]\n",
    "    \n",
    "    #model\n",
    "    logreg = LogisticRegression(class_weight='balanced', C=2, solver='liblinear')\n",
    "    logreg.fit(xtr, ytr)\n",
    "    score = roc_auc_score(yvl, logreg.predict(xvl))\n",
    "    f1 = f1_score(yvl, logreg.predict(xvl))\n",
    "    accuracy = accuracy_score(yvl, logreg.predict(xvl))\n",
    "    \n",
    "    print('ROC AUC score:',score)\n",
    "    print('F1-score:', f1)\n",
    "    print('\\n')\n",
    "    cv_score.append(score)\n",
    "    f1_scores.append(f1)\n",
    "    accuracy_scores.append(accuracy)\n",
    "    models.append(logreg)\n",
    "    \n",
    "    pred_test = logreg.predict_proba(X_test)[:,1]\n",
    "    pred_test_full += pred_test\n",
    "    i+=1\n",
    "    \n",
    "print(\"pred_test_full:\", pred_test_full)\n",
    "print(\"Averaged CV score: {}%\".format(round((sum(cv_score)/len(cv_score))*100,2)))\n",
    "print('Averaged F1-score: {}%'.format(round(sum(f1_scores)/len(f1_scores)*100, 2)))\n",
    "print(\"Averaged accuracy: {}%\".format(round(sum(accuracy_scores)/len(accuracy_scores)*100, 2)))"
   ]
  },
  {
   "cell_type": "markdown",
   "metadata": {},
   "source": [
    "## Conclusion"
   ]
  },
  {
   "cell_type": "markdown",
   "metadata": {},
   "source": [
    "In summary, we get a F1-Score (Precision and Recall) of approximately 57% and a AUC (Area Under roc Curve) of 72% on the test data, averaged over the 5 batch of our Stratified-KFold training strategy.\n",
    "\n",
    "We could have done a GridSearch to tune the parameters of the Logistic Regression algorithm given our data to increase the metrics used. <br/>\n",
    "\n",
    "Our model is slightly less accurate (~71.8%) compared to the baseline (~73%)."
   ]
  },
  {
   "cell_type": "markdown",
   "metadata": {},
   "source": [
    "## Inference"
   ]
  },
  {
   "cell_type": "code",
   "execution_count": 832,
   "metadata": {},
   "outputs": [
    {
     "data": {
      "text/html": [
       "<div>\n",
       "<style scoped>\n",
       "    .dataframe tbody tr th:only-of-type {\n",
       "        vertical-align: middle;\n",
       "    }\n",
       "\n",
       "    .dataframe tbody tr th {\n",
       "        vertical-align: top;\n",
       "    }\n",
       "\n",
       "    .dataframe thead th {\n",
       "        text-align: right;\n",
       "    }\n",
       "</style>\n",
       "<table border=\"1\" class=\"dataframe\">\n",
       "  <thead>\n",
       "    <tr style=\"text-align: right;\">\n",
       "      <th></th>\n",
       "      <th>TARGET_FLAG</th>\n",
       "      <th>TARGET_AMT</th>\n",
       "      <th>KIDSDRIV</th>\n",
       "      <th>AGE</th>\n",
       "      <th>HOMEKIDS</th>\n",
       "      <th>YOJ</th>\n",
       "      <th>INCOME</th>\n",
       "      <th>PARENT1</th>\n",
       "      <th>HOME_VAL</th>\n",
       "      <th>MSTATUS</th>\n",
       "      <th>...</th>\n",
       "      <th>BLUEBOOK</th>\n",
       "      <th>TIF</th>\n",
       "      <th>CAR_TYPE</th>\n",
       "      <th>RED_CAR</th>\n",
       "      <th>OLDCLAIM</th>\n",
       "      <th>CLM_FREQ</th>\n",
       "      <th>REVOKED</th>\n",
       "      <th>MVR_PTS</th>\n",
       "      <th>CAR_AGE</th>\n",
       "      <th>URBANICITY</th>\n",
       "    </tr>\n",
       "    <tr>\n",
       "      <th>INDEX</th>\n",
       "      <th></th>\n",
       "      <th></th>\n",
       "      <th></th>\n",
       "      <th></th>\n",
       "      <th></th>\n",
       "      <th></th>\n",
       "      <th></th>\n",
       "      <th></th>\n",
       "      <th></th>\n",
       "      <th></th>\n",
       "      <th></th>\n",
       "      <th></th>\n",
       "      <th></th>\n",
       "      <th></th>\n",
       "      <th></th>\n",
       "      <th></th>\n",
       "      <th></th>\n",
       "      <th></th>\n",
       "      <th></th>\n",
       "      <th></th>\n",
       "      <th></th>\n",
       "    </tr>\n",
       "  </thead>\n",
       "  <tbody>\n",
       "    <tr>\n",
       "      <th>3</th>\n",
       "      <td>NaN</td>\n",
       "      <td>NaN</td>\n",
       "      <td>0</td>\n",
       "      <td>48.0</td>\n",
       "      <td>0</td>\n",
       "      <td>11.0</td>\n",
       "      <td>$52,881</td>\n",
       "      <td>No</td>\n",
       "      <td>$0</td>\n",
       "      <td>z_No</td>\n",
       "      <td>...</td>\n",
       "      <td>$21,970</td>\n",
       "      <td>1</td>\n",
       "      <td>Van</td>\n",
       "      <td>yes</td>\n",
       "      <td>$0</td>\n",
       "      <td>0</td>\n",
       "      <td>No</td>\n",
       "      <td>2</td>\n",
       "      <td>10.0</td>\n",
       "      <td>Highly Urban/ Urban</td>\n",
       "    </tr>\n",
       "    <tr>\n",
       "      <th>9</th>\n",
       "      <td>NaN</td>\n",
       "      <td>NaN</td>\n",
       "      <td>1</td>\n",
       "      <td>40.0</td>\n",
       "      <td>1</td>\n",
       "      <td>11.0</td>\n",
       "      <td>$50,815</td>\n",
       "      <td>Yes</td>\n",
       "      <td>$0</td>\n",
       "      <td>z_No</td>\n",
       "      <td>...</td>\n",
       "      <td>$18,930</td>\n",
       "      <td>6</td>\n",
       "      <td>Minivan</td>\n",
       "      <td>no</td>\n",
       "      <td>$3,295</td>\n",
       "      <td>1</td>\n",
       "      <td>No</td>\n",
       "      <td>2</td>\n",
       "      <td>1.0</td>\n",
       "      <td>Highly Urban/ Urban</td>\n",
       "    </tr>\n",
       "    <tr>\n",
       "      <th>10</th>\n",
       "      <td>NaN</td>\n",
       "      <td>NaN</td>\n",
       "      <td>0</td>\n",
       "      <td>44.0</td>\n",
       "      <td>2</td>\n",
       "      <td>12.0</td>\n",
       "      <td>$43,486</td>\n",
       "      <td>Yes</td>\n",
       "      <td>$0</td>\n",
       "      <td>z_No</td>\n",
       "      <td>...</td>\n",
       "      <td>$5,900</td>\n",
       "      <td>10</td>\n",
       "      <td>z_SUV</td>\n",
       "      <td>no</td>\n",
       "      <td>$0</td>\n",
       "      <td>0</td>\n",
       "      <td>No</td>\n",
       "      <td>0</td>\n",
       "      <td>10.0</td>\n",
       "      <td>z_Highly Rural/ Rural</td>\n",
       "    </tr>\n",
       "    <tr>\n",
       "      <th>18</th>\n",
       "      <td>NaN</td>\n",
       "      <td>NaN</td>\n",
       "      <td>0</td>\n",
       "      <td>35.0</td>\n",
       "      <td>2</td>\n",
       "      <td>NaN</td>\n",
       "      <td>$21,204</td>\n",
       "      <td>Yes</td>\n",
       "      <td>$0</td>\n",
       "      <td>z_No</td>\n",
       "      <td>...</td>\n",
       "      <td>$9,230</td>\n",
       "      <td>6</td>\n",
       "      <td>Pickup</td>\n",
       "      <td>no</td>\n",
       "      <td>$0</td>\n",
       "      <td>0</td>\n",
       "      <td>Yes</td>\n",
       "      <td>0</td>\n",
       "      <td>4.0</td>\n",
       "      <td>z_Highly Rural/ Rural</td>\n",
       "    </tr>\n",
       "    <tr>\n",
       "      <th>21</th>\n",
       "      <td>NaN</td>\n",
       "      <td>NaN</td>\n",
       "      <td>0</td>\n",
       "      <td>59.0</td>\n",
       "      <td>0</td>\n",
       "      <td>12.0</td>\n",
       "      <td>$87,460</td>\n",
       "      <td>No</td>\n",
       "      <td>$0</td>\n",
       "      <td>z_No</td>\n",
       "      <td>...</td>\n",
       "      <td>$15,420</td>\n",
       "      <td>1</td>\n",
       "      <td>Minivan</td>\n",
       "      <td>yes</td>\n",
       "      <td>$44,857</td>\n",
       "      <td>2</td>\n",
       "      <td>No</td>\n",
       "      <td>4</td>\n",
       "      <td>1.0</td>\n",
       "      <td>Highly Urban/ Urban</td>\n",
       "    </tr>\n",
       "  </tbody>\n",
       "</table>\n",
       "<p>5 rows × 25 columns</p>\n",
       "</div>"
      ],
      "text/plain": [
       "       TARGET_FLAG  TARGET_AMT  KIDSDRIV   AGE  HOMEKIDS   YOJ   INCOME  \\\n",
       "INDEX                                                                     \n",
       "3              NaN         NaN         0  48.0         0  11.0  $52,881   \n",
       "9              NaN         NaN         1  40.0         1  11.0  $50,815   \n",
       "10             NaN         NaN         0  44.0         2  12.0  $43,486   \n",
       "18             NaN         NaN         0  35.0         2   NaN  $21,204   \n",
       "21             NaN         NaN         0  59.0         0  12.0  $87,460   \n",
       "\n",
       "      PARENT1 HOME_VAL MSTATUS          ...           BLUEBOOK TIF CAR_TYPE  \\\n",
       "INDEX                                   ...                                   \n",
       "3          No       $0    z_No          ...            $21,970   1      Van   \n",
       "9         Yes       $0    z_No          ...            $18,930   6  Minivan   \n",
       "10        Yes       $0    z_No          ...             $5,900  10    z_SUV   \n",
       "18        Yes       $0    z_No          ...             $9,230   6   Pickup   \n",
       "21         No       $0    z_No          ...            $15,420   1  Minivan   \n",
       "\n",
       "       RED_CAR OLDCLAIM CLM_FREQ  REVOKED MVR_PTS CAR_AGE  \\\n",
       "INDEX                                                       \n",
       "3          yes       $0        0       No       2    10.0   \n",
       "9           no   $3,295        1       No       2     1.0   \n",
       "10          no       $0        0       No       0    10.0   \n",
       "18          no       $0        0      Yes       0     4.0   \n",
       "21         yes  $44,857        2       No       4     1.0   \n",
       "\n",
       "                  URBANICITY  \n",
       "INDEX                         \n",
       "3        Highly Urban/ Urban  \n",
       "9        Highly Urban/ Urban  \n",
       "10     z_Highly Rural/ Rural  \n",
       "18     z_Highly Rural/ Rural  \n",
       "21       Highly Urban/ Urban  \n",
       "\n",
       "[5 rows x 25 columns]"
      ]
     },
     "execution_count": 832,
     "metadata": {},
     "output_type": "execute_result"
    }
   ],
   "source": [
    "test_auto = pd.read_csv(os.path.join(path, 'test_auto.csv'), delimiter=',')\n",
    "test_auto.set_index('INDEX', inplace=True)\n",
    "test_auto.head()"
   ]
  },
  {
   "cell_type": "code",
   "execution_count": 833,
   "metadata": {},
   "outputs": [
    {
     "name": "stdout",
     "output_type": "stream",
     "text": [
      "['TARGET_FLAG', 'TARGET_AMT', 'AGE', 'YOJ', 'INCOME', 'HOME_VAL', 'JOB', 'CAR_AGE']\n"
     ]
    }
   ],
   "source": [
    "best_model_index = cv_score.index(max(cv_score))\n",
    "best_model = models[best_model_index]\n",
    "\n",
    "df_test = cleaning(test_auto)\n",
    "df_test = imputed(df_test)\n",
    "df_test = onehotencoding(df_test)\n",
    "\n",
    "y_test = df_test['TARGET_FLAG']\n",
    "X_test = df_test.drop(columns=['TARGET_FLAG', 'TARGET_AMT'], axis=1)\n",
    "X_test = X_test[important_cols]\n",
    "\n",
    "y_pred = best_model.predict(X_test)\n",
    "test_auto[\"TARGET_FLAG\"] = y_pred"
   ]
  },
  {
   "cell_type": "code",
   "execution_count": 834,
   "metadata": {},
   "outputs": [],
   "source": [
    "test_auto.to_csv(\"predicted_target_flag.csv\", encoding='utf-8')"
   ]
  }
 ],
 "metadata": {
  "kernelspec": {
   "display_name": "Python 3",
   "language": "python",
   "name": "python3"
  },
  "language_info": {
   "codemirror_mode": {
    "name": "ipython",
    "version": 3
   },
   "file_extension": ".py",
   "mimetype": "text/x-python",
   "name": "python",
   "nbconvert_exporter": "python",
   "pygments_lexer": "ipython3",
   "version": "3.6.4"
  }
 },
 "nbformat": 4,
 "nbformat_minor": 2
}
